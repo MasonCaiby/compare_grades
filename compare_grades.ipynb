{
 "cells": [
  {
   "cell_type": "markdown",
   "metadata": {},
   "source": [
    "# Assumptions\n",
    "\n",
    "1. Maybe the biggest assumption we have is that people are entering their data correctly and taking the right amount of points. No one would ever lie on 8a.... [Mason](https://www.8a.nu/user/mason-caiby)\n",
    "1. We're assuming that equally dedicated and motivated and genetically potentialled people are route climbing and bouldering (i.e. Route climbers aren't inheritantly better than boulderererers, even if they are).\n",
    "2. We're assuming that the points gained by flashing vs onsighting are fair to both boulderers and sport climbers (some might argue one discipline is easier to 1st go than another). This also means that we're assuming flashing a route is about 1 letter grade harder than sending a route (I'd personally disagree) and that onsighting is 3 letter grades harder than flashing a route (this is really area dependent)\n",
    "3. We're assuming that points gained are season independent. This is probably wrong. Ideally everyone is getting stronger all the time, if the Bubble, CO is anything to go off of, more people are bouldering outside in the winter than in the summer, so bouldering grades might be a little inflated. But, since we're doing worldwide, maybe the bouldering vs route season averages out?\n",
    "4. We're assuming consistent popularity of bouldering and sport climbing throughout the world. This is tied to assumption number 1\n",
    "5. We're assuming both disciplines pursue grades with equal vigor. If boulderers care more about grades than route climbers their score will be higher than sport climbers.\n",
    "6. We're assuming equal tactics for sport climbers and boulderers. Essentially, that all climbers are trying to maximize their 8a.nu score, spending about a month per project and onsighting as hard as they can. Rifle climbers typically spend a season working a few routes, boulderers (where I'm from) seem to try a handleful of boulders at the same time. This means that boulderers probably send more 'limit' boulders than sport climbers?\n",
    "7. Ok, look, I know BMI is a bad way to gauge someone's health. But it feels like an adequate way to compare muscle mass per height, right? Like, I'm assuming the top climbers are all relatively as lean as each other (like sub 10% bf for men?) and I want to know if being a Bufffff Boiiii (tm) is better than being a Skinni Salammi (also, tm). Well, really what I want to know is if getting my TinderBod 2019 is worth the risk of not climbing as hard this year. Existentially, is it worth trying to climb harder? When do the basic girls that swipe right for me stop caring about how hard I climb? When do I stop caring about how hard I climb. When will I love myself?"
   ]
  },
  {
   "cell_type": "markdown",
   "metadata": {},
   "source": [
    "# Notes on the Plot\n",
    "1. To determine a grade equivalency just find the ranking closest to your input grade and look at the average grade the same ranked person climbs in the output style. \n",
    "    1. Let's use 5.13c (8A+) as an example.\n",
    "    2. Find the person that climbs, on average, 13C (10,500 8a.nu points).\n",
    "    3. They're Ranked 455th\n",
    "    4. Mouse over the graph and you can see the Boulderer ranked 455th's points\n",
    "    5. They have 9490 points\n",
    "    6. That's really close to 9500 8a.nu points, or v10.\n",
    "    7. This means we can say that sending a v10 is about as impressive as climbing 5.13c\n",
    "    8. Anecdotally, that lines up with my outdoor climbing experience (1-2 days for me to do either a 13c or v10).\n",
    "1. Also, sorry. The BMI webscraper thing only kinda works. It seems like a hassle to get non-ascii characters included in the URL (or is it an IRI?). If someone wants to go for an improvement, great. You can send me a pull request, or just do it on your own thing. I literally dont care at all.\n",
    "2. Also, the [8a robots.txt](https://www.8a.nu/robots.txt) webpage doesn't really discuss the `.../user/...` pages so I just kinda went for it. Please don't sue me. \n",
    "3. Scrapping the height/weight data is taking forever. It seems like 4 seconds per person, so... 4*3000 = 12000s = 200 minutes = 3.33 hours. I hope I dont accidentally delete that data. Although, it sounds liek you might be able to drop the time a bit if you turn off the printing. Your choice. You can also just not re-run this script ever and take my word for its accuracy.\n",
    "4. I'm dropping all BMI's over 35. I spot checked a few users with BMI's that high and it seemed like they entered a joke weight or entered the wrong weight.\n",
    "5. We're plotting the 30 person and 100 person rolling mean for BMI, the raw data is just too varied"
   ]
  },
  {
   "cell_type": "code",
   "execution_count": 1,
   "metadata": {},
   "outputs": [],
   "source": [
    "%matplotlib inline\n",
    "# -*- coding: utf-16 -*-\n",
    "import pandas as pd\n",
    "import numpy as np\n",
    "import matplotlib.pyplot as plt\n",
    "import time\n",
    "import seaborn as sns\n",
    "import pickle\n",
    "\n",
    "# For plotly make sure you import plotly.offline etc. if you want it to save the graph\n",
    "# as an html\n",
    "import plotly.plotly as py\n",
    "import plotly.graph_objs as go\n",
    "from plotly.offline import download_plotlyjs, init_notebook_mode, plot, iplot\n",
    "\n",
    "sns.set(palette=\"muted\")\n",
    "\n",
    "# webscraping\n",
    "from selenium import webdriver\n",
    "from selenium.webdriver.common.keys import Keys\n",
    "from selenium.webdriver.common.action_chains import ActionChains\n",
    "\n",
    "from bs4 import BeautifulSoup\n",
    "import urllib3\n",
    "import urllib.parse\n",
    "from requests import get\n",
    "import html5lib\n",
    "import re\n",
    "import os"
   ]
  },
  {
   "cell_type": "markdown",
   "metadata": {},
   "source": [
    "# Web scrape\n",
    "\n",
    "The obvious solution to grab all of the possible BMI data, e.g. avoid the ASCII / Unicode issue I ran into below is to just grabe the href associated with the name in the table while scraping the score data."
   ]
  },
  {
   "cell_type": "code",
   "execution_count": 2,
   "metadata": {
    "scrolled": true
   },
   "outputs": [],
   "source": [
    "re_scrape = False\n",
    "\n",
    "# this gets the points and names of the top 1500 sport climber and boulderers\n",
    "\n",
    "if re_scrape:\n",
    "    url_8a = 'https://www.8a.nu/scorecard/ranking/'\n",
    "    driver = webdriver.Chrome(executable_path='./chromedriver')\n",
    "\n",
    "    # 8a.nu is incredibly slow, so we're going to be doing this a lot\n",
    "    driver.get(url_8a)\n",
    "    driver.implicitly_wait(30)\n",
    "\n",
    "    dfs = {'RankingRoute': None,\n",
    "          'Boulder': None}\n",
    "\n",
    "    for sport in dfs.keys():\n",
    "        df = pd.DataFrame()\n",
    "        for i in range(15):\n",
    "\n",
    "            time.sleep(3)\n",
    "            soup=BeautifulSoup(driver.page_source, \"html.parser\")\n",
    "            table_id = 'ctl00_ContentPlaceholder_GridView' + sport\n",
    "            table1 = soup.find('table', id=table_id)\n",
    "            time.sleep(3)\n",
    "            new_df = pd.DataFrame(pd.read_html(str(table1))[0])\n",
    "            time.sleep(5)\n",
    "            next_button_path = \"//a[contains(@href,'GridView\"+sport+\"') and contains(.,'Next')]\"\n",
    "            next_routes = driver.find_element_by_xpath(next_button_path)\n",
    "            actions = ActionChains(driver)\n",
    "            actions.move_to_element(next_routes).perform()\n",
    "            time.sleep(3)\n",
    "            next_routes.click()\n",
    "\n",
    "            df = pd.concat([df, new_df], axis=0)\n",
    "\n",
    "        df.columns = ['ranking', 'drop','points', 'drop1','name','drop2','drop3','drop4']\n",
    "        df.drop([column for column in df.columns if 'drop' in column], axis=1, inplace=True)\n",
    "        df.dropna(inplace=True)\n",
    "        df['points'] = df['points'].replace(r'\\xa0', '', regex=True)\n",
    "        df = df[~df.points.str.contains(\"Next 100\")]\n",
    "        df['points'] = df['points'].astype(int)\n",
    "        dfs[sport] = df\n",
    "\n",
    "    print('\\a\\a\\a done')\n",
    "    \n",
    "else:\n",
    "    with open('8a_data.pkl', 'rb') as handle:\n",
    "        dfs = pickle.load(handle)"
   ]
  },
  {
   "cell_type": "code",
   "execution_count": 3,
   "metadata": {},
   "outputs": [],
   "source": [
    "# this gets the BMI data (if possible) of the top 1500 sport climbers and boulderers\n",
    "if re_scrape:\n",
    "    user_agent = 'Mozilla/5.0 (X11; Linux x86_64) AppleWebKit/537.36 (KHTML, like Gecko) Chrome/36.0.1985.143 Safari/537.36'\n",
    "    names = dfs['RankingRoute'].name.values\n",
    "    \n",
    "    def scrap_bmi_data(names):\n",
    "        names = [name.lower().replace(' ','-') for name in names]\n",
    "        urls = ['https://www.8a.nu/user/'+name for name in names]\n",
    "        heights = []\n",
    "        weights = []\n",
    "        for url in urls:\n",
    "            url = urllib.parse.urlsplit(url)\n",
    "            url = list(url)\n",
    "            url[2] = urllib.parse.quote(url[2])\n",
    "            url = urllib.parse.urlunsplit(url)\n",
    "            # print(url)\n",
    "            response = get(url, headers={'User-Agent':user_agent}, allow_redirects=True)\n",
    "\n",
    "            soup = BeautifulSoup(response.text, 'html.parser')\n",
    "            spans = soup('span')\n",
    "            try:\n",
    "                height = soup.find(\"td\", text=\"Height\").find_next_sibling(\"td\").text\n",
    "                # print(height)\n",
    "                if height == '':\n",
    "                    height = None\n",
    "                else:\n",
    "                    height = int(height.split(' ')[0])\n",
    "                heights.append(height)\n",
    "\n",
    "                weight = soup.find('td', text='Weight').find_next_sibling(\"td\").text\n",
    "                # print(weight)\n",
    "                if weight =='':\n",
    "                    weight = None\n",
    "                else:\n",
    "                    weight = int(weight.split(' ')[1])\n",
    "                weights.append(weight)\n",
    "\n",
    "            except AttributeError:\n",
    "                heights.append(None)\n",
    "                weights.append(None)\n",
    "\n",
    "        return heights, weights"
   ]
  },
  {
   "cell_type": "code",
   "execution_count": 4,
   "metadata": {},
   "outputs": [],
   "source": [
    "if re_scrape:\n",
    "    names = dfs['RankingRoute'].name.values\n",
    "    route_heights, route_weights = scrap_bmi_data(names)\n",
    "\n",
    "    names = dfs['Boulder'].name.values\n",
    "    boulder_heights, boulder_weights = scrap_bmi_data(names)"
   ]
  },
  {
   "cell_type": "code",
   "execution_count": 5,
   "metadata": {},
   "outputs": [],
   "source": [
    "# add the newly made heights and weights to the correct dfs\n",
    "\n",
    "if re_scrape:\n",
    "    dfs['RankingRoute']['height'] = route_heights\n",
    "    dfs['RankingRoute']['weight'] = route_weights\n",
    "    dfs['Boulder']['height'] = boulder_heights\n",
    "    dfs['Boulder']['weight'] = boulder_weights"
   ]
  },
  {
   "cell_type": "code",
   "execution_count": 6,
   "metadata": {},
   "outputs": [],
   "source": [
    "# calculate and clean the bmis\n",
    "\n",
    "dfs['RankingRoute']['bmi'] = dfs['RankingRoute']['weight'] / (dfs['RankingRoute']['height']/100)**2\n",
    "dfs['Boulder']['bmi'] = dfs['Boulder']['weight'] / (dfs['Boulder']['height']/100)**2\n",
    "\n",
    "dfs['RankingRoute']['bmi'] = dfs['RankingRoute']['bmi'].apply(lambda x: np.nan if x >= 35 else x)\n",
    "dfs['Boulder']['bmi'] = dfs['Boulder']['bmi'].apply(lambda x: np.nan if x >= 35 else x)\n",
    "\n",
    "dfs['RankingRoute']['rolling_bmi_30'] = dfs['RankingRoute']['bmi'].rolling(window=30, min_periods=1).mean()\n",
    "dfs['Boulder']['rolling_bmi_30'] = dfs['Boulder']['bmi'].rolling(window=30, min_periods=1).mean()\n",
    "\n",
    "dfs['RankingRoute']['rolling_bmi_100'] = dfs['RankingRoute']['bmi'].rolling(window=100, min_periods=1).mean()\n",
    "dfs['Boulder']['rolling_bmi_100'] = dfs['Boulder']['bmi'].rolling(window=100, min_periods=1).mean()"
   ]
  },
  {
   "cell_type": "code",
   "execution_count": 7,
   "metadata": {},
   "outputs": [],
   "source": [
    "# I don't want to do this by accident, and I don't want to accidentaly uncomment it.\n",
    "# don't look at me\n",
    "\n",
    "if False:\n",
    "    with open('8a_data.pkl', 'wb') as pickle_file:\n",
    "        pickle.dump(dfs, pickle_file, protocol=pickle.HIGHEST_PROTOCOL)"
   ]
  },
  {
   "cell_type": "markdown",
   "metadata": {},
   "source": [
    "# The plotly Code starts here\n",
    "\n",
    "For plotly make sure you import plotly.offline etc. if you want it to save the graph\n",
    "as an html\n",
    "\n",
    "import plotly.plotly as py\n",
    "import plotly.graph_objs as go\n",
    "from plotly.offline import download_plotlyjs, init_notebook_mode, plot, iplot"
   ]
  },
  {
   "cell_type": "code",
   "execution_count": 22,
   "metadata": {},
   "outputs": [],
   "source": [
    "# make a function to create the rolling bmi traces, they're pretty much the same.\n",
    "\n",
    "def bmi_trace(x, y, color, name):\n",
    "    rolling_bmi = go.Scatter(\n",
    "        x = dfs['RankingRoute']['ranking'],\n",
    "        y = dfs['RankingRoute']['rolling_bmi_100'],\n",
    "        name = name,\n",
    "        line = {'color': color},\n",
    "        yaxis = 'y3',\n",
    "        connectgaps = True,\n",
    "        visible = \"legendonly\")\n",
    "    return rolling_bmi"
   ]
  },
  {
   "cell_type": "code",
   "execution_count": 25,
   "metadata": {},
   "outputs": [],
   "source": [
    "# define come colors\n",
    "route_points_red = 'rgb(220,20,60)'\n",
    "route_bmi_red = 'rgba(240,128,128,1)'\n",
    "\n",
    "boulder_points_blue = 'rgb(100,149,237)'\n",
    "boulder_bmi_blue =  'rgba(135,206,235, 1)'\n",
    "\n",
    "# predefine some axis data\n",
    "bmi_ticks = [a for a in np.linspace(start=19, stop=23, num=12)]\n",
    "bmi_tick_labels = ['{:.2f}'.format(a) for a in bmi_ticks]\n",
    "\n",
    "###############################\n",
    "\n",
    "# Plotly Specific things\n",
    "\n",
    "# Routes\n",
    "route_points = go.Scatter(\n",
    "            x = dfs['RankingRoute']['ranking'],\n",
    "            y = dfs['RankingRoute']['points'],\n",
    "            name='Route Points',\n",
    "            line = {'color': (route_points_red)})\n",
    "\n",
    "route_tick_vals = [val for val in range(8500, 14500, 500)]\n",
    "route_tick_labels = ['7B+','7C','7C+', '8A','8A+', '8B', '8B+', '8C', '8C+', '9A' ,'9A+', '9B','9B+']\n",
    "\n",
    "# Boulders\n",
    "bouldering_points = go.Scatter(\n",
    "            x = dfs['Boulder']['ranking'],\n",
    "            y = dfs['Boulder']['points'],\n",
    "            name = 'Bouldering Points',\n",
    "            yaxis = 'y2',\n",
    "            line = {'color': (boulder_points_blue)})\n",
    "\n",
    "boulder_tick_vals = [val for val in range(7000,13000, 500)]\n",
    "boulder_tick_labels = ['v5','v6','v7','v8', 'v9', 'v10', 'v11', 'v12','v13','v14','v15', 'v16', 'v17', 'v18']\n",
    "\n",
    "# Rolling Route BMI\n",
    "route_rolling_bmi_100 = bmi_trace(dfs['RankingRoute']['ranking'], \n",
    "                                  dfs['RankingRoute']['rolling_bmi_100'],\n",
    "                                  route_bmi_red,\n",
    "                                  \"100 Person Rolling Route BMI\")\n",
    "\n",
    "route_rolling_bmi_30 = bmi_trace(dfs['RankingRoute']['ranking'], \n",
    "                                 dfs['RankingRoute']['rolling_bmi_30'],\n",
    "                                 route_bmi_red,\n",
    "                                 \"30 Person Rolling Route BMI\")\n",
    "\n",
    "# Rolling Boulder BMI\n",
    "boulder_rolling_bmi_100 = bmi_trace(dfs['Boulder']['ranking'],\n",
    "                                    dfs['Boulder']['rolling_bmi_100'],\n",
    "                                    boulder_bmi_blue,\n",
    "                                    \"100 Person Rolling Bouldering BMI\")\n",
    "\n",
    "\n",
    "boulder_rolling_bmi_30 = bmi_trace(dfs['Boulder']['ranking'],\n",
    "                                   dfs['Boulder']['rolling_bmi_30'],\n",
    "                                   boulder_bmi_blue,\n",
    "                                   \"30 Person Rolling Bouldering BMI\")\n",
    "\n",
    "############\n",
    "\"\"\" The traces are the lines etc. The layout affects the graph.\"\"\"\n",
    "############\n",
    "\n",
    "data = [route_points,  route_rolling_bmi_100, route_rolling_bmi_30,\n",
    "        bouldering_points, boulder_rolling_bmi_100, boulder_rolling_bmi_30]\n",
    "\n",
    "layout = go.Layout(\n",
    "            title = 'Comparison of Points by 8a Ranking',\n",
    "            xaxis = {'title': 'Ranking',\n",
    "                     'domain': [0.1,1]},\n",
    "    \n",
    "            # route rankings\n",
    "            yaxis = {'title':'Route Points',\n",
    "                     'tickvals': route_tick_vals,\n",
    "                     'ticktext': route_tick_labels,\n",
    "                     'range': [8500,14000],\n",
    "                     'titlefont': {'color': route_points_red},\n",
    "                     'tickfont': {'color': route_points_red},\n",
    "                     'anchor':'x'},\n",
    "    \n",
    "            # bouldering rankings\n",
    "            yaxis2 = {'title': 'Bouldering Points',\n",
    "                      \n",
    "                     'tickvals': boulder_tick_vals,\n",
    "                     'ticktext': boulder_tick_labels,\n",
    "                     'titlefont': {'color': boulder_points_blue},\n",
    "                     'tickfont': {'color': boulder_points_blue},\n",
    "                     'overlaying': 'y',\n",
    "                     'side': 'right',\n",
    "                     'range': [7000,12500],\n",
    "                     'anchor':'x'},\n",
    "    \n",
    "            # bmi\n",
    "            yaxis3 = {'title': 'Rolling BMI',\n",
    "                     'tickvals': bmi_ticks,\n",
    "                     'ticktext': bmi_tick_labels,\n",
    "                     'range': [19,23],\n",
    "                     'overlaying': 'y',\n",
    "                     'titlefont': {'color': 'black'},\n",
    "                     'tickfont': {'color': 'black'},\n",
    "                     'position': 0.025,\n",
    "                     'anchor': 'free'}\n",
    "        )\n",
    "\n",
    "\n",
    "# make the figure\n",
    "fig = go.Figure(data=data, layout=layout)\n",
    "# export to html\n",
    "plot_url = plot(fig)"
   ]
  },
  {
   "cell_type": "code",
   "execution_count": 26,
   "metadata": {},
   "outputs": [
    {
     "name": "stdout",
     "output_type": "stream",
     "text": [
      "  ranking  points               name  height  weight        bmi  \\\n",
      "0       1   13835         Adam Ondra   185.0    68.0  19.868517   \n",
      "1       2   13415        Piotr Schab   173.0    58.0  19.379197   \n",
      "2       3   13127  Jonathan Siegrist   167.0    58.0  20.796730   \n",
      "3       4   13030      Pirmin Bertle   184.0    68.0  20.085066   \n",
      "4       5   12903   Jorge diaz-rullo     NaN     NaN        NaN   \n",
      "\n",
      "   rolling_bmi_30  rolling_bmi_100  \n",
      "0       19.868517        19.868517  \n",
      "1       19.623857        19.623857  \n",
      "2       20.014815        20.014815  \n",
      "3       20.032378        20.032378  \n",
      "4       20.032378        20.032378  \n",
      "  ranking  points               name  height  weight        bmi  \\\n",
      "0       1   11945       Daniel Woods   166.0    63.0  22.862534   \n",
      "1       2   11880  Giuliano Cameroni   170.0    53.0  18.339100   \n",
      "2       3   11850         James Webb   183.0    78.0  23.291230   \n",
      "3       4   11720     Martin Stráník   178.0    73.0  23.040020   \n",
      "4       5   11690     Christof Rauch   170.0    68.0  23.529412   \n",
      "\n",
      "   rolling_bmi_30  rolling_bmi_100  \n",
      "0       22.862534        22.862534  \n",
      "1       20.600817        20.600817  \n",
      "2       21.497622        21.497622  \n",
      "3       21.883221        21.883221  \n",
      "4       22.212459        22.212459  \n"
     ]
    }
   ],
   "source": [
    "for df in dfs.values():\n",
    "    print(df.head())"
   ]
  },
  {
   "cell_type": "code",
   "execution_count": 45,
   "metadata": {},
   "outputs": [
    {
     "name": "stdout",
     "output_type": "stream",
     "text": [
      "Routes\n",
      "r^2 value: 0.005191141584609427\n"
     ]
    },
    {
     "data": {
      "image/png": "[encoded data removed]",
      "text/plain": [
       "<Figure size 432x288 with 1 Axes>"
      ]
     },
     "metadata": {
      "needs_background": "light"
     },
     "output_type": "display_data"
    },
    {
     "name": "stdout",
     "output_type": "stream",
     "text": [
      "Boulders\n",
      "r^2 value: 0.0015524910742533704\n"
     ]
    },
    {
     "data": {
      "image/png": "[encoded data removed]",
      "text/plain": [
       "<Figure size 432x288 with 1 Axes>"
      ]
     },
     "metadata": {
      "needs_background": "light"
     },
     "output_type": "display_data"
    }
   ],
   "source": [
    "# let's see if we can predict ranking from bmi\n",
    "\n",
    "from sklearn.preprocessing import PolynomialFeatures\n",
    "from sklearn.linear_model import LinearRegression\n",
    "from sklearn.metrics import r2_score\n",
    "\n",
    "def bmi_to_rank(df):\n",
    "    x = df['bmi'].values.reshape(-1, 1)\n",
    "    y = df['ranking'].astype('int')\n",
    "    \n",
    "    polynomial_features= PolynomialFeatures(degree=2)\n",
    "    x_poly = polynomial_features.fit_transform(x)\n",
    "    \n",
    "    model = LinearRegression()\n",
    "    model.fit(x_poly, y)\n",
    "    y_poly_pred = model.predict(x_poly)\n",
    "\n",
    "    print('r^2 value:', r2_score(y, y_poly_pred))\n",
    "    plt.scatter(x, y)\n",
    "    plt.plot(x, y_poly_pred, color='m')\n",
    "    plt.show()\n",
    "    \n",
    "# routes\n",
    "print('Routes')\n",
    "df = dfs['RankingRoute'].dropna(axis=0)\n",
    "bmi_to_rank(df)\n",
    "\n",
    "# boulder\n",
    "print('Boulders')\n",
    "df = dfs['Boulder'].dropna(axis=0)\n",
    "bmi_to_rank(df)\n",
    "\n",
    "# That's a pretty strong no"
   ]
  },
  {
   "cell_type": "code",
   "execution_count": 46,
   "metadata": {},
   "outputs": [
    {
     "name": "stdout",
     "output_type": "stream",
     "text": [
      "Routes\n",
      "r^2 value: 0.005438739837619111\n"
     ]
    },
    {
     "data": {
      "image/png": "[encoded data removed]",
      "text/plain": [
       "<Figure size 432x288 with 1 Axes>"
      ]
     },
     "metadata": {
      "needs_background": "light"
     },
     "output_type": "display_data"
    },
    {
     "name": "stdout",
     "output_type": "stream",
     "text": [
      "Boulders\n",
      "r^2 value: 0.0016531445916441179\n"
     ]
    },
    {
     "data": {
      "image/png": "[encoded data removed]",
      "text/plain": [
       "<Figure size 432x288 with 1 Axes>"
      ]
     },
     "metadata": {
      "needs_background": "light"
     },
     "output_type": "display_data"
    }
   ],
   "source": [
    "# but can we predict BMI from ranking? again, probably no\n",
    "def rank_to_bmi(df):\n",
    "    y = df['bmi']\n",
    "    x = df['ranking'].astype('int').values.reshape(-1, 1)\n",
    "    polynomial_features= PolynomialFeatures(degree=2)\n",
    "    x_poly = polynomial_features.fit_transform(x)\n",
    "    model = LinearRegression()\n",
    "    model.fit(x_poly, y)\n",
    "    y_poly_pred = model.predict(x_poly)\n",
    "\n",
    "    print('r^2 value:', r2_score(y, y_poly_pred))\n",
    "    plt.scatter(x, y)\n",
    "    plt.plot(x, y_poly_pred, color='m')\n",
    "    plt.show()\n",
    "    \n",
    "# routes\n",
    "print('Routes')\n",
    "df = dfs['RankingRoute'].dropna(axis=0)\n",
    "rank_to_bmi(df)\n",
    "\n",
    "# boulder\n",
    "print('Boulders')\n",
    "df = dfs['Boulder'].dropna(axis=0)\n",
    "rank_to_bmi(df)\n",
    "\n",
    "# and thats a no, which is to be expected if you look at the charts below."
   ]
  },
  {
   "cell_type": "code",
   "execution_count": null,
   "metadata": {},
   "outputs": [],
   "source": []
  }
 ],
 "metadata": {
  "kernelspec": {
   "display_name": "Python 3",
   "language": "python",
   "name": "python3"
  },
  "language_info": {
   "codemirror_mode": {
    "name": "ipython",
    "version": 3
   },
   "file_extension": ".py",
   "mimetype": "text/x-python",
   "name": "python",
   "nbconvert_exporter": "python",
   "pygments_lexer": "ipython3",
   "version": "3.6.8"
  }
 },
 "nbformat": 4,
 "nbformat_minor": 2
}
